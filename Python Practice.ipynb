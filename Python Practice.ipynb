{
 "cells": [
  {
   "cell_type": "code",
   "execution_count": 3,
   "metadata": {},
   "outputs": [
    {
     "name": "stdout",
     "output_type": "stream",
     "text": [
      "Enter number: 5555559999\n",
      "5 appears in the given number  6  times.\n"
     ]
    }
   ],
   "source": [
    "# David Beck 09/5/2021\n",
    "n = int(input(\"Enter number: \"))\n",
    "count = 0\n",
    "while n != 0:\n",
    "    x = n%10\n",
    "    if x ==5:\n",
    "        count += 1\n",
    "    n = n // 10\n",
    "print(\"5 appears in the given number \",count, \" times.\")"
   ]
  }
 ],
 "metadata": {
  "kernelspec": {
   "display_name": "Python 3",
   "language": "python",
   "name": "python3"
  },
  "language_info": {
   "codemirror_mode": {
    "name": "ipython",
    "version": 3
   },
   "file_extension": ".py",
   "mimetype": "text/x-python",
   "name": "python",
   "nbconvert_exporter": "python",
   "pygments_lexer": "ipython3",
   "version": "3.6.5"
  }
 },
 "nbformat": 4,
 "nbformat_minor": 2
}
