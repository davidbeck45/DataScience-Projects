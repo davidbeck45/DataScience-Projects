{
 "cells": [
  {
   "cell_type": "code",
   "execution_count": 4,
   "metadata": {},
   "outputs": [
    {
     "name": "stdout",
     "output_type": "stream",
     "text": [
      "one two three six\n",
      "{3: ['one', 'two', 'six'], 5: ['three']}\n"
     ]
    }
   ],
   "source": [
    "#david Beck september 10, 2021\n",
    "li=list(map(str,input().split()))\n",
    "\n",
    "d={}\n",
    "\n",
    "for item in li:\n",
    "\n",
    "    l=len(item)\n",
    "    if l in d.keys():\n",
    "        tlist=d[l]\n",
    "        tlist.append(item)\n",
    "        d[l]=tlist\n",
    "    else:\n",
    "        temp=[]\n",
    "        temp.append(item)\n",
    "        d[l]=temp\n",
    "print(d)"
   ]
  },
  {
   "cell_type": "code",
   "execution_count": null,
   "metadata": {},
   "outputs": [],
   "source": []
  }
 ],
 "metadata": {
  "kernelspec": {
   "display_name": "Python 3",
   "language": "python",
   "name": "python3"
  },
  "language_info": {
   "codemirror_mode": {
    "name": "ipython",
    "version": 3
   },
   "file_extension": ".py",
   "mimetype": "text/x-python",
   "name": "python",
   "nbconvert_exporter": "python",
   "pygments_lexer": "ipython3",
   "version": "3.6.5"
  }
 },
 "nbformat": 4,
 "nbformat_minor": 2
}
